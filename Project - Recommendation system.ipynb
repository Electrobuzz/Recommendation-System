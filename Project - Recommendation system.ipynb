{
 "cells": [
  {
   "cell_type": "code",
   "execution_count": 1,
   "metadata": {},
   "outputs": [],
   "source": [
    "import numpy as np\n",
    "import pandas as pd\n",
    "import matplotlib.pyplot as plt\n",
    "import seaborn as sns"
   ]
  },
  {
   "cell_type": "code",
   "execution_count": 2,
   "metadata": {},
   "outputs": [
    {
     "name": "stdout",
     "output_type": "stream",
     "text": [
      "   user_id  movie_id  rating  timestamp\n",
      "0      196       242       3  881250949\n",
      "1      186       302       3  891717742\n",
      "2       22       377       1  878887116\n",
      "3      244        51       2  880606923\n",
      "4      166       346       1  886397596\n",
      "   user_id  age gender  occupation zip_code\n",
      "0        1   24      M  technician    85711\n",
      "1        2   53      F       other    94043\n",
      "2        3   23      M      writer    32067\n",
      "3        4   24      M  technician    43537\n",
      "4        5   33      F       other    15213\n"
     ]
    }
   ],
   "source": [
    "# Read u.data file\n",
    "u_ratings_columns = ['user_id', 'movie_id', 'rating', 'timestamp']\n",
    "u_ratings = pd.read_csv('u.data', sep='\\t', names=u_ratings_columns)\n",
    "\n",
    "# Read u.info file\n",
    "#u_info_columns = ['num_users', 'num_items', 'num_ratings']\n",
    "#u_info = pd.read_csv('u.info', sep=' ', names=u_info_columns)\n",
    "\n",
    "# Read u.item file\n",
    "u_movies_columns = ['movie_id', 'title', 'release_date', 'video_release_date', 'IMDb_URL',\n",
    "                  'unknown', 'Action', 'Adventure', 'Animation', 'Children', 'Comedy', 'Crime',\n",
    "                  'Documentary', 'Drama', 'Fantasy', 'Film-Noir', 'Horror', 'Musical', 'Mystery',\n",
    "                  'Romance', 'Sci-Fi', 'Thriller', 'War', 'Western']\n",
    "u_movies = pd.read_csv('u.item', sep='|', names=u_movies_columns, encoding='latin-1')\n",
    "\n",
    "# Read u.genre file\n",
    "\n",
    "#u_genre_columns = ['genre']\n",
    "#u_genre = pd.read_csv('u.genre', sep='|', names=u_genre_columns)\n",
    "\n",
    "# Read u.user file\n",
    "u_user_columns = ['user_id', 'age', 'gender', 'occupation', 'zip_code']\n",
    "u_user = pd.read_csv('u.user', sep='|', names=u_user_columns)\n",
    "\n",
    "# Read u.occupation file\n",
    "#u_occupation_columns = ['occupation']\n",
    "#u_occupation = pd.read_csv('u.occupation', names=u_occupation_columns)\n",
    "\n",
    "# Read other data files as needed\n",
    "\n",
    "# Print the first few rows of each DataFrame to check the data\n",
    "print(u_ratings.head())\n",
    "#print(u_info.head())\n",
    "#print(u_movies.head())\n",
    "#print(u_genre.head())\n",
    "\n",
    "print(u_user.head())\n",
    "#print(u_occupation.head())\n"
   ]
  },
  {
   "cell_type": "code",
   "execution_count": 3,
   "metadata": {},
   "outputs": [
    {
     "name": "stdout",
     "output_type": "stream",
     "text": [
      "      movie_id                                      title  \\\n",
      "0            1                           Toy Story (1995)   \n",
      "1            2                           GoldenEye (1995)   \n",
      "2            3                          Four Rooms (1995)   \n",
      "3            4                          Get Shorty (1995)   \n",
      "4            5                             Copycat (1995)   \n",
      "...        ...                                        ...   \n",
      "1677      1678                          Mat' i syn (1997)   \n",
      "1678      1679                           B. Monkey (1998)   \n",
      "1679      1680                       Sliding Doors (1998)   \n",
      "1680      1681                        You So Crazy (1994)   \n",
      "1681      1682  Scream of Stone (Schrei aus Stein) (1991)   \n",
      "\n",
      "                             genres  \n",
      "0     [Animation, Children, Comedy]  \n",
      "1     [Action, Adventure, Thriller]  \n",
      "2                        [Thriller]  \n",
      "3           [Action, Comedy, Drama]  \n",
      "4          [Crime, Drama, Thriller]  \n",
      "...                             ...  \n",
      "1677                        [Drama]  \n",
      "1678            [Romance, Thriller]  \n",
      "1679               [Drama, Romance]  \n",
      "1680                       [Comedy]  \n",
      "1681                        [Drama]  \n",
      "\n",
      "[1682 rows x 3 columns]\n"
     ]
    },
    {
     "name": "stderr",
     "output_type": "stream",
     "text": [
      "/var/folders/8z/9yvk4rkj3vsfh47h5btvvk_c0000gn/T/ipykernel_43987/1058529217.py:7: SettingWithCopyWarning: \n",
      "A value is trying to be set on a copy of a slice from a DataFrame.\n",
      "Try using .loc[row_indexer,col_indexer] = value instead\n",
      "\n",
      "See the caveats in the documentation: https://pandas.pydata.org/pandas-docs/stable/user_guide/indexing.html#returning-a-view-versus-a-copy\n",
      "  u_movies_sub['genres'] = u_movies_sub.iloc[:, 2:].apply(lambda row: row.index[row == 1].tolist(), axis=1)\n"
     ]
    }
   ],
   "source": [
    "\n",
    "# Extract relevant columns\n",
    "u_movies_sub = u_movies[['movie_id', 'title', 'unknown', 'Action', 'Adventure', 'Animation', 'Children', 'Comedy', 'Crime',\n",
    "                  'Documentary', 'Drama', 'Fantasy', 'Film-Noir', 'Horror', 'Musical', 'Mystery',\n",
    "                  'Romance', 'Sci-Fi', 'Thriller', 'War', 'Western']]\n",
    "\n",
    "# Convert genre columns to a list of genres for each movie\n",
    "u_movies_sub['genres'] = u_movies_sub.iloc[:, 2:].apply(lambda row: row.index[row == 1].tolist(), axis=1)\n",
    "\n",
    "# Select the relevant columns for the final DataFrame\n",
    "u_movies_new = u_movies_sub[['movie_id', 'title', 'genres']]\n",
    "\n",
    "# Display the result\n",
    "print(u_movies_new)\n"
   ]
  },
  {
   "cell_type": "code",
   "execution_count": 4,
   "metadata": {},
   "outputs": [
    {
     "name": "stdout",
     "output_type": "stream",
     "text": [
      "Number of ratings: 100000\n",
      "Number of unique movieId's: 1682\n",
      "Number of unique users: 943\n",
      "Average number of ratings per user: 106.04\n",
      "Average number of ratings per movie: 59.45\n"
     ]
    }
   ],
   "source": [
    "n_ratings = len(u_ratings)\n",
    "n_movies = u_movies['movie_id'].nunique()\n",
    "n_users = u_ratings['user_id'].nunique()\n",
    "\n",
    "print(f\"Number of ratings: {n_ratings}\")\n",
    "print(f\"Number of unique movieId's: {n_movies}\")\n",
    "print(f\"Number of unique users: {n_users}\")\n",
    "print(f\"Average number of ratings per user: {round(n_ratings/n_users, 2)}\")\n",
    "print(f\"Average number of ratings per movie: {round(n_ratings/n_movies, 2)}\")\n"
   ]
  },
  {
   "cell_type": "code",
   "execution_count": null,
   "metadata": {},
   "outputs": [],
   "source": [
    "sns.countplot(x=\"rating\", data=u_ratings, palette=\"Blues\"       )\n",
    "plt.title(\"Distribution of movie ratings\", fontsize=14)\n",
    "plt.show()"
   ]
  },
  {
   "cell_type": "code",
   "execution_count": 6,
   "metadata": {},
   "outputs": [
    {
     "name": "stdout",
     "output_type": "stream",
     "text": [
      "Mean global rating: 3.53.\n"
     ]
    }
   ],
   "source": [
    "print(f\"Mean global rating: {round(u_ratings['rating'].mean(),2)}.\")"
   ]
  },
  {
   "cell_type": "code",
   "execution_count": 7,
   "metadata": {},
   "outputs": [
    {
     "name": "stdout",
     "output_type": "stream",
     "text": [
      "Mean rating per user: 3.59.\n"
     ]
    }
   ],
   "source": [
    "mean_ratings = u_ratings.groupby('user_id')['rating'].mean()\n",
    "#print(mean_ratings)\n",
    "print(f\"Mean rating per user: {round(mean_ratings.mean(),2)}.\")"
   ]
  },
  {
   "cell_type": "markdown",
   "metadata": {},
   "source": [
    "### Which movies are most frequently rated?"
   ]
  },
  {
   "cell_type": "code",
   "execution_count": 8,
   "metadata": {},
   "outputs": [
    {
     "data": {
      "text/html": [
       "<div>\n",
       "<style scoped>\n",
       "    .dataframe tbody tr th:only-of-type {\n",
       "        vertical-align: middle;\n",
       "    }\n",
       "\n",
       "    .dataframe tbody tr th {\n",
       "        vertical-align: top;\n",
       "    }\n",
       "\n",
       "    .dataframe thead th {\n",
       "        text-align: right;\n",
       "    }\n",
       "</style>\n",
       "<table border=\"1\" class=\"dataframe\">\n",
       "  <thead>\n",
       "    <tr style=\"text-align: right;\">\n",
       "      <th></th>\n",
       "      <th>user_id</th>\n",
       "      <th>movie_id</th>\n",
       "      <th>rating</th>\n",
       "      <th>timestamp</th>\n",
       "      <th>title</th>\n",
       "      <th>release_date</th>\n",
       "      <th>video_release_date</th>\n",
       "      <th>IMDb_URL</th>\n",
       "      <th>unknown</th>\n",
       "      <th>Action</th>\n",
       "      <th>...</th>\n",
       "      <th>Fantasy</th>\n",
       "      <th>Film-Noir</th>\n",
       "      <th>Horror</th>\n",
       "      <th>Musical</th>\n",
       "      <th>Mystery</th>\n",
       "      <th>Romance</th>\n",
       "      <th>Sci-Fi</th>\n",
       "      <th>Thriller</th>\n",
       "      <th>War</th>\n",
       "      <th>Western</th>\n",
       "    </tr>\n",
       "  </thead>\n",
       "  <tbody>\n",
       "    <tr>\n",
       "      <th>0</th>\n",
       "      <td>196</td>\n",
       "      <td>242</td>\n",
       "      <td>3</td>\n",
       "      <td>881250949</td>\n",
       "      <td>Kolya (1996)</td>\n",
       "      <td>24-Jan-1997</td>\n",
       "      <td>NaN</td>\n",
       "      <td>http://us.imdb.com/M/title-exact?Kolya%20(1996)</td>\n",
       "      <td>0</td>\n",
       "      <td>0</td>\n",
       "      <td>...</td>\n",
       "      <td>0</td>\n",
       "      <td>0</td>\n",
       "      <td>0</td>\n",
       "      <td>0</td>\n",
       "      <td>0</td>\n",
       "      <td>0</td>\n",
       "      <td>0</td>\n",
       "      <td>0</td>\n",
       "      <td>0</td>\n",
       "      <td>0</td>\n",
       "    </tr>\n",
       "    <tr>\n",
       "      <th>1</th>\n",
       "      <td>63</td>\n",
       "      <td>242</td>\n",
       "      <td>3</td>\n",
       "      <td>875747190</td>\n",
       "      <td>Kolya (1996)</td>\n",
       "      <td>24-Jan-1997</td>\n",
       "      <td>NaN</td>\n",
       "      <td>http://us.imdb.com/M/title-exact?Kolya%20(1996)</td>\n",
       "      <td>0</td>\n",
       "      <td>0</td>\n",
       "      <td>...</td>\n",
       "      <td>0</td>\n",
       "      <td>0</td>\n",
       "      <td>0</td>\n",
       "      <td>0</td>\n",
       "      <td>0</td>\n",
       "      <td>0</td>\n",
       "      <td>0</td>\n",
       "      <td>0</td>\n",
       "      <td>0</td>\n",
       "      <td>0</td>\n",
       "    </tr>\n",
       "    <tr>\n",
       "      <th>2</th>\n",
       "      <td>226</td>\n",
       "      <td>242</td>\n",
       "      <td>5</td>\n",
       "      <td>883888671</td>\n",
       "      <td>Kolya (1996)</td>\n",
       "      <td>24-Jan-1997</td>\n",
       "      <td>NaN</td>\n",
       "      <td>http://us.imdb.com/M/title-exact?Kolya%20(1996)</td>\n",
       "      <td>0</td>\n",
       "      <td>0</td>\n",
       "      <td>...</td>\n",
       "      <td>0</td>\n",
       "      <td>0</td>\n",
       "      <td>0</td>\n",
       "      <td>0</td>\n",
       "      <td>0</td>\n",
       "      <td>0</td>\n",
       "      <td>0</td>\n",
       "      <td>0</td>\n",
       "      <td>0</td>\n",
       "      <td>0</td>\n",
       "    </tr>\n",
       "    <tr>\n",
       "      <th>3</th>\n",
       "      <td>154</td>\n",
       "      <td>242</td>\n",
       "      <td>3</td>\n",
       "      <td>879138235</td>\n",
       "      <td>Kolya (1996)</td>\n",
       "      <td>24-Jan-1997</td>\n",
       "      <td>NaN</td>\n",
       "      <td>http://us.imdb.com/M/title-exact?Kolya%20(1996)</td>\n",
       "      <td>0</td>\n",
       "      <td>0</td>\n",
       "      <td>...</td>\n",
       "      <td>0</td>\n",
       "      <td>0</td>\n",
       "      <td>0</td>\n",
       "      <td>0</td>\n",
       "      <td>0</td>\n",
       "      <td>0</td>\n",
       "      <td>0</td>\n",
       "      <td>0</td>\n",
       "      <td>0</td>\n",
       "      <td>0</td>\n",
       "    </tr>\n",
       "    <tr>\n",
       "      <th>4</th>\n",
       "      <td>306</td>\n",
       "      <td>242</td>\n",
       "      <td>5</td>\n",
       "      <td>876503793</td>\n",
       "      <td>Kolya (1996)</td>\n",
       "      <td>24-Jan-1997</td>\n",
       "      <td>NaN</td>\n",
       "      <td>http://us.imdb.com/M/title-exact?Kolya%20(1996)</td>\n",
       "      <td>0</td>\n",
       "      <td>0</td>\n",
       "      <td>...</td>\n",
       "      <td>0</td>\n",
       "      <td>0</td>\n",
       "      <td>0</td>\n",
       "      <td>0</td>\n",
       "      <td>0</td>\n",
       "      <td>0</td>\n",
       "      <td>0</td>\n",
       "      <td>0</td>\n",
       "      <td>0</td>\n",
       "      <td>0</td>\n",
       "    </tr>\n",
       "    <tr>\n",
       "      <th>...</th>\n",
       "      <td>...</td>\n",
       "      <td>...</td>\n",
       "      <td>...</td>\n",
       "      <td>...</td>\n",
       "      <td>...</td>\n",
       "      <td>...</td>\n",
       "      <td>...</td>\n",
       "      <td>...</td>\n",
       "      <td>...</td>\n",
       "      <td>...</td>\n",
       "      <td>...</td>\n",
       "      <td>...</td>\n",
       "      <td>...</td>\n",
       "      <td>...</td>\n",
       "      <td>...</td>\n",
       "      <td>...</td>\n",
       "      <td>...</td>\n",
       "      <td>...</td>\n",
       "      <td>...</td>\n",
       "      <td>...</td>\n",
       "      <td>...</td>\n",
       "    </tr>\n",
       "    <tr>\n",
       "      <th>99995</th>\n",
       "      <td>840</td>\n",
       "      <td>1674</td>\n",
       "      <td>4</td>\n",
       "      <td>891211682</td>\n",
       "      <td>Mamma Roma (1962)</td>\n",
       "      <td>01-Jan-1962</td>\n",
       "      <td>NaN</td>\n",
       "      <td>http://us.imdb.com/M/title-exact?Mamma%20Roma%...</td>\n",
       "      <td>0</td>\n",
       "      <td>0</td>\n",
       "      <td>...</td>\n",
       "      <td>0</td>\n",
       "      <td>0</td>\n",
       "      <td>0</td>\n",
       "      <td>0</td>\n",
       "      <td>0</td>\n",
       "      <td>0</td>\n",
       "      <td>0</td>\n",
       "      <td>0</td>\n",
       "      <td>0</td>\n",
       "      <td>0</td>\n",
       "    </tr>\n",
       "    <tr>\n",
       "      <th>99996</th>\n",
       "      <td>655</td>\n",
       "      <td>1640</td>\n",
       "      <td>3</td>\n",
       "      <td>888474646</td>\n",
       "      <td>Eighth Day, The (1996)</td>\n",
       "      <td>01-Nov-1996</td>\n",
       "      <td>NaN</td>\n",
       "      <td>http://us.imdb.com/Title?Huiti%E8me+jour,+Le+(...</td>\n",
       "      <td>0</td>\n",
       "      <td>0</td>\n",
       "      <td>...</td>\n",
       "      <td>0</td>\n",
       "      <td>0</td>\n",
       "      <td>0</td>\n",
       "      <td>0</td>\n",
       "      <td>0</td>\n",
       "      <td>0</td>\n",
       "      <td>0</td>\n",
       "      <td>0</td>\n",
       "      <td>0</td>\n",
       "      <td>0</td>\n",
       "    </tr>\n",
       "    <tr>\n",
       "      <th>99997</th>\n",
       "      <td>655</td>\n",
       "      <td>1637</td>\n",
       "      <td>3</td>\n",
       "      <td>888984255</td>\n",
       "      <td>Girls Town (1996)</td>\n",
       "      <td>23-Aug-1996</td>\n",
       "      <td>NaN</td>\n",
       "      <td>http://us.imdb.com/M/title-exact?Girls%20Town%...</td>\n",
       "      <td>0</td>\n",
       "      <td>0</td>\n",
       "      <td>...</td>\n",
       "      <td>0</td>\n",
       "      <td>0</td>\n",
       "      <td>0</td>\n",
       "      <td>0</td>\n",
       "      <td>0</td>\n",
       "      <td>0</td>\n",
       "      <td>0</td>\n",
       "      <td>0</td>\n",
       "      <td>0</td>\n",
       "      <td>0</td>\n",
       "    </tr>\n",
       "    <tr>\n",
       "      <th>99998</th>\n",
       "      <td>655</td>\n",
       "      <td>1630</td>\n",
       "      <td>3</td>\n",
       "      <td>887428735</td>\n",
       "      <td>Silence of the Palace, The (Saimt el Qusur) (1...</td>\n",
       "      <td>02-Feb-1996</td>\n",
       "      <td>NaN</td>\n",
       "      <td>http://us.imdb.com/M/title-exact?Saimt%20el%20...</td>\n",
       "      <td>0</td>\n",
       "      <td>0</td>\n",
       "      <td>...</td>\n",
       "      <td>0</td>\n",
       "      <td>0</td>\n",
       "      <td>0</td>\n",
       "      <td>0</td>\n",
       "      <td>0</td>\n",
       "      <td>0</td>\n",
       "      <td>0</td>\n",
       "      <td>0</td>\n",
       "      <td>0</td>\n",
       "      <td>0</td>\n",
       "    </tr>\n",
       "    <tr>\n",
       "      <th>99999</th>\n",
       "      <td>655</td>\n",
       "      <td>1641</td>\n",
       "      <td>3</td>\n",
       "      <td>887427810</td>\n",
       "      <td>Dadetown (1995)</td>\n",
       "      <td>18-Sep-1996</td>\n",
       "      <td>NaN</td>\n",
       "      <td>http://us.imdb.com/M/title-exact?Dadetown%20(1...</td>\n",
       "      <td>0</td>\n",
       "      <td>0</td>\n",
       "      <td>...</td>\n",
       "      <td>0</td>\n",
       "      <td>0</td>\n",
       "      <td>0</td>\n",
       "      <td>0</td>\n",
       "      <td>0</td>\n",
       "      <td>0</td>\n",
       "      <td>0</td>\n",
       "      <td>0</td>\n",
       "      <td>0</td>\n",
       "      <td>0</td>\n",
       "    </tr>\n",
       "  </tbody>\n",
       "</table>\n",
       "<p>100000 rows × 27 columns</p>\n",
       "</div>"
      ],
      "text/plain": [
       "       user_id  movie_id  rating  timestamp  \\\n",
       "0          196       242       3  881250949   \n",
       "1           63       242       3  875747190   \n",
       "2          226       242       5  883888671   \n",
       "3          154       242       3  879138235   \n",
       "4          306       242       5  876503793   \n",
       "...        ...       ...     ...        ...   \n",
       "99995      840      1674       4  891211682   \n",
       "99996      655      1640       3  888474646   \n",
       "99997      655      1637       3  888984255   \n",
       "99998      655      1630       3  887428735   \n",
       "99999      655      1641       3  887427810   \n",
       "\n",
       "                                                   title release_date  \\\n",
       "0                                           Kolya (1996)  24-Jan-1997   \n",
       "1                                           Kolya (1996)  24-Jan-1997   \n",
       "2                                           Kolya (1996)  24-Jan-1997   \n",
       "3                                           Kolya (1996)  24-Jan-1997   \n",
       "4                                           Kolya (1996)  24-Jan-1997   \n",
       "...                                                  ...          ...   \n",
       "99995                                  Mamma Roma (1962)  01-Jan-1962   \n",
       "99996                             Eighth Day, The (1996)  01-Nov-1996   \n",
       "99997                                  Girls Town (1996)  23-Aug-1996   \n",
       "99998  Silence of the Palace, The (Saimt el Qusur) (1...  02-Feb-1996   \n",
       "99999                                    Dadetown (1995)  18-Sep-1996   \n",
       "\n",
       "       video_release_date                                           IMDb_URL  \\\n",
       "0                     NaN    http://us.imdb.com/M/title-exact?Kolya%20(1996)   \n",
       "1                     NaN    http://us.imdb.com/M/title-exact?Kolya%20(1996)   \n",
       "2                     NaN    http://us.imdb.com/M/title-exact?Kolya%20(1996)   \n",
       "3                     NaN    http://us.imdb.com/M/title-exact?Kolya%20(1996)   \n",
       "4                     NaN    http://us.imdb.com/M/title-exact?Kolya%20(1996)   \n",
       "...                   ...                                                ...   \n",
       "99995                 NaN  http://us.imdb.com/M/title-exact?Mamma%20Roma%...   \n",
       "99996                 NaN  http://us.imdb.com/Title?Huiti%E8me+jour,+Le+(...   \n",
       "99997                 NaN  http://us.imdb.com/M/title-exact?Girls%20Town%...   \n",
       "99998                 NaN  http://us.imdb.com/M/title-exact?Saimt%20el%20...   \n",
       "99999                 NaN  http://us.imdb.com/M/title-exact?Dadetown%20(1...   \n",
       "\n",
       "       unknown  Action  ...  Fantasy  Film-Noir  Horror  Musical  Mystery  \\\n",
       "0            0       0  ...        0          0       0        0        0   \n",
       "1            0       0  ...        0          0       0        0        0   \n",
       "2            0       0  ...        0          0       0        0        0   \n",
       "3            0       0  ...        0          0       0        0        0   \n",
       "4            0       0  ...        0          0       0        0        0   \n",
       "...        ...     ...  ...      ...        ...     ...      ...      ...   \n",
       "99995        0       0  ...        0          0       0        0        0   \n",
       "99996        0       0  ...        0          0       0        0        0   \n",
       "99997        0       0  ...        0          0       0        0        0   \n",
       "99998        0       0  ...        0          0       0        0        0   \n",
       "99999        0       0  ...        0          0       0        0        0   \n",
       "\n",
       "       Romance  Sci-Fi  Thriller  War  Western  \n",
       "0            0       0         0    0        0  \n",
       "1            0       0         0    0        0  \n",
       "2            0       0         0    0        0  \n",
       "3            0       0         0    0        0  \n",
       "4            0       0         0    0        0  \n",
       "...        ...     ...       ...  ...      ...  \n",
       "99995        0       0         0    0        0  \n",
       "99996        0       0         0    0        0  \n",
       "99997        0       0         0    0        0  \n",
       "99998        0       0         0    0        0  \n",
       "99999        0       0         0    0        0  \n",
       "\n",
       "[100000 rows x 27 columns]"
      ]
     },
     "execution_count": 8,
     "metadata": {},
     "output_type": "execute_result"
    }
   ],
   "source": [
    "movie_ratings = u_ratings.merge(u_movies, on='movie_id')\n",
    "movie_ratings\n",
    "#movie_ratings['title'].value_counts()[0:10]"
   ]
  },
  {
   "cell_type": "code",
   "execution_count": 9,
   "metadata": {},
   "outputs": [
    {
     "name": "stdout",
     "output_type": "stream",
     "text": [
      "            rating\n",
      "movie_id          \n",
      "1         3.878319\n",
      "2         3.206107\n",
      "3         3.033333\n",
      "4         3.550239\n",
      "5         3.302326\n",
      "...            ...\n",
      "1678      1.000000\n",
      "1679      3.000000\n",
      "1680      2.000000\n",
      "1681      3.000000\n",
      "1682      3.000000\n",
      "\n",
      "[1682 rows x 1 columns]\n"
     ]
    },
    {
     "data": {
      "text/html": [
       "<div>\n",
       "<style scoped>\n",
       "    .dataframe tbody tr th:only-of-type {\n",
       "        vertical-align: middle;\n",
       "    }\n",
       "\n",
       "    .dataframe tbody tr th {\n",
       "        vertical-align: top;\n",
       "    }\n",
       "\n",
       "    .dataframe thead th {\n",
       "        text-align: right;\n",
       "    }\n",
       "</style>\n",
       "<table border=\"1\" class=\"dataframe\">\n",
       "  <thead>\n",
       "    <tr style=\"text-align: right;\">\n",
       "      <th></th>\n",
       "      <th>movie_id</th>\n",
       "      <th>title</th>\n",
       "      <th>release_date</th>\n",
       "      <th>video_release_date</th>\n",
       "      <th>IMDb_URL</th>\n",
       "      <th>unknown</th>\n",
       "      <th>Action</th>\n",
       "      <th>Adventure</th>\n",
       "      <th>Animation</th>\n",
       "      <th>Children</th>\n",
       "      <th>...</th>\n",
       "      <th>Fantasy</th>\n",
       "      <th>Film-Noir</th>\n",
       "      <th>Horror</th>\n",
       "      <th>Musical</th>\n",
       "      <th>Mystery</th>\n",
       "      <th>Romance</th>\n",
       "      <th>Sci-Fi</th>\n",
       "      <th>Thriller</th>\n",
       "      <th>War</th>\n",
       "      <th>Western</th>\n",
       "    </tr>\n",
       "  </thead>\n",
       "  <tbody>\n",
       "    <tr>\n",
       "      <th>313</th>\n",
       "      <td>314</td>\n",
       "      <td>3 Ninjas: High Noon At Mega Mountain (1998)</td>\n",
       "      <td>01-Jan-1997</td>\n",
       "      <td>NaN</td>\n",
       "      <td>http://us.imdb.com/M/title-exact?imdb-title-11...</td>\n",
       "      <td>0</td>\n",
       "      <td>1</td>\n",
       "      <td>0</td>\n",
       "      <td>0</td>\n",
       "      <td>1</td>\n",
       "      <td>...</td>\n",
       "      <td>0</td>\n",
       "      <td>0</td>\n",
       "      <td>0</td>\n",
       "      <td>0</td>\n",
       "      <td>0</td>\n",
       "      <td>0</td>\n",
       "      <td>0</td>\n",
       "      <td>0</td>\n",
       "      <td>0</td>\n",
       "      <td>0</td>\n",
       "    </tr>\n",
       "  </tbody>\n",
       "</table>\n",
       "<p>1 rows × 24 columns</p>\n",
       "</div>"
      ],
      "text/plain": [
       "     movie_id                                        title release_date  \\\n",
       "313       314  3 Ninjas: High Noon At Mega Mountain (1998)  01-Jan-1997   \n",
       "\n",
       "     video_release_date                                           IMDb_URL  \\\n",
       "313                 NaN  http://us.imdb.com/M/title-exact?imdb-title-11...   \n",
       "\n",
       "     unknown  Action  Adventure  Animation  Children  ...  Fantasy  Film-Noir  \\\n",
       "313        0       1          0          0         1  ...        0          0   \n",
       "\n",
       "     Horror  Musical  Mystery  Romance  Sci-Fi  Thriller  War  Western  \n",
       "313       0        0        0        0       0         0    0        0  \n",
       "\n",
       "[1 rows x 24 columns]"
      ]
     },
     "execution_count": 9,
     "metadata": {},
     "output_type": "execute_result"
    }
   ],
   "source": [
    "mean_ratings = u_ratings.groupby('movie_id')[['rating']].mean()\n",
    "print(mean_ratings)\n",
    "lowest_rated = mean_ratings['rating'].idxmin()\n",
    "\n",
    "u_movies[u_movies['movie_id'] == lowest_rated ]"
   ]
  },
  {
   "cell_type": "code",
   "execution_count": 10,
   "metadata": {},
   "outputs": [
    {
     "data": {
      "text/html": [
       "<div>\n",
       "<style scoped>\n",
       "    .dataframe tbody tr th:only-of-type {\n",
       "        vertical-align: middle;\n",
       "    }\n",
       "\n",
       "    .dataframe tbody tr th {\n",
       "        vertical-align: top;\n",
       "    }\n",
       "\n",
       "    .dataframe thead th {\n",
       "        text-align: right;\n",
       "    }\n",
       "</style>\n",
       "<table border=\"1\" class=\"dataframe\">\n",
       "  <thead>\n",
       "    <tr style=\"text-align: right;\">\n",
       "      <th></th>\n",
       "      <th>movie_id</th>\n",
       "      <th>title</th>\n",
       "      <th>release_date</th>\n",
       "      <th>video_release_date</th>\n",
       "      <th>IMDb_URL</th>\n",
       "      <th>unknown</th>\n",
       "      <th>Action</th>\n",
       "      <th>Adventure</th>\n",
       "      <th>Animation</th>\n",
       "      <th>Children</th>\n",
       "      <th>...</th>\n",
       "      <th>Fantasy</th>\n",
       "      <th>Film-Noir</th>\n",
       "      <th>Horror</th>\n",
       "      <th>Musical</th>\n",
       "      <th>Mystery</th>\n",
       "      <th>Romance</th>\n",
       "      <th>Sci-Fi</th>\n",
       "      <th>Thriller</th>\n",
       "      <th>War</th>\n",
       "      <th>Western</th>\n",
       "    </tr>\n",
       "  </thead>\n",
       "  <tbody>\n",
       "    <tr>\n",
       "      <th>813</th>\n",
       "      <td>814</td>\n",
       "      <td>Great Day in Harlem, A (1994)</td>\n",
       "      <td>01-Jan-1994</td>\n",
       "      <td>NaN</td>\n",
       "      <td>http://us.imdb.com/M/title-exact?Great%20Day%2...</td>\n",
       "      <td>0</td>\n",
       "      <td>0</td>\n",
       "      <td>0</td>\n",
       "      <td>0</td>\n",
       "      <td>0</td>\n",
       "      <td>...</td>\n",
       "      <td>0</td>\n",
       "      <td>0</td>\n",
       "      <td>0</td>\n",
       "      <td>0</td>\n",
       "      <td>0</td>\n",
       "      <td>0</td>\n",
       "      <td>0</td>\n",
       "      <td>0</td>\n",
       "      <td>0</td>\n",
       "      <td>0</td>\n",
       "    </tr>\n",
       "  </tbody>\n",
       "</table>\n",
       "<p>1 rows × 24 columns</p>\n",
       "</div>"
      ],
      "text/plain": [
       "     movie_id                          title release_date  video_release_date  \\\n",
       "813       814  Great Day in Harlem, A (1994)  01-Jan-1994                 NaN   \n",
       "\n",
       "                                              IMDb_URL  unknown  Action  \\\n",
       "813  http://us.imdb.com/M/title-exact?Great%20Day%2...        0       0   \n",
       "\n",
       "     Adventure  Animation  Children  ...  Fantasy  Film-Noir  Horror  Musical  \\\n",
       "813          0          0         0  ...        0          0       0        0   \n",
       "\n",
       "     Mystery  Romance  Sci-Fi  Thriller  War  Western  \n",
       "813        0        0       0         0    0        0  \n",
       "\n",
       "[1 rows x 24 columns]"
      ]
     },
     "execution_count": 10,
     "metadata": {},
     "output_type": "execute_result"
    }
   ],
   "source": [
    "highest_rated = mean_ratings['rating'].idxmax()\n",
    "u_movies[u_movies['movie_id'] == highest_rated]"
   ]
  },
  {
   "cell_type": "code",
   "execution_count": 11,
   "metadata": {},
   "outputs": [
    {
     "data": {
      "text/html": [
       "<div>\n",
       "<style scoped>\n",
       "    .dataframe tbody tr th:only-of-type {\n",
       "        vertical-align: middle;\n",
       "    }\n",
       "\n",
       "    .dataframe tbody tr th {\n",
       "        vertical-align: top;\n",
       "    }\n",
       "\n",
       "    .dataframe thead th {\n",
       "        text-align: right;\n",
       "    }\n",
       "</style>\n",
       "<table border=\"1\" class=\"dataframe\">\n",
       "  <thead>\n",
       "    <tr style=\"text-align: right;\">\n",
       "      <th></th>\n",
       "      <th>user_id</th>\n",
       "      <th>movie_id</th>\n",
       "      <th>rating</th>\n",
       "      <th>timestamp</th>\n",
       "    </tr>\n",
       "  </thead>\n",
       "  <tbody>\n",
       "    <tr>\n",
       "      <th>6519</th>\n",
       "      <td>13</td>\n",
       "      <td>814</td>\n",
       "      <td>5</td>\n",
       "      <td>886302261</td>\n",
       "    </tr>\n",
       "  </tbody>\n",
       "</table>\n",
       "</div>"
      ],
      "text/plain": [
       "      user_id  movie_id  rating  timestamp\n",
       "6519       13       814       5  886302261"
      ]
     },
     "execution_count": 11,
     "metadata": {},
     "output_type": "execute_result"
    }
   ],
   "source": [
    "u_ratings[u_ratings['movie_id']==highest_rated]"
   ]
  },
  {
   "cell_type": "markdown",
   "metadata": {},
   "source": [
    "#### Bayesian Average"
   ]
  },
  {
   "cell_type": "code",
   "execution_count": 12,
   "metadata": {},
   "outputs": [
    {
     "data": {
      "text/html": [
       "<div>\n",
       "<style scoped>\n",
       "    .dataframe tbody tr th:only-of-type {\n",
       "        vertical-align: middle;\n",
       "    }\n",
       "\n",
       "    .dataframe tbody tr th {\n",
       "        vertical-align: top;\n",
       "    }\n",
       "\n",
       "    .dataframe thead th {\n",
       "        text-align: right;\n",
       "    }\n",
       "</style>\n",
       "<table border=\"1\" class=\"dataframe\">\n",
       "  <thead>\n",
       "    <tr style=\"text-align: right;\">\n",
       "      <th></th>\n",
       "      <th>count</th>\n",
       "      <th>mean</th>\n",
       "    </tr>\n",
       "    <tr>\n",
       "      <th>movie_id</th>\n",
       "      <th></th>\n",
       "      <th></th>\n",
       "    </tr>\n",
       "  </thead>\n",
       "  <tbody>\n",
       "    <tr>\n",
       "      <th>1</th>\n",
       "      <td>452</td>\n",
       "      <td>3.878319</td>\n",
       "    </tr>\n",
       "    <tr>\n",
       "      <th>2</th>\n",
       "      <td>131</td>\n",
       "      <td>3.206107</td>\n",
       "    </tr>\n",
       "    <tr>\n",
       "      <th>3</th>\n",
       "      <td>90</td>\n",
       "      <td>3.033333</td>\n",
       "    </tr>\n",
       "    <tr>\n",
       "      <th>4</th>\n",
       "      <td>209</td>\n",
       "      <td>3.550239</td>\n",
       "    </tr>\n",
       "    <tr>\n",
       "      <th>5</th>\n",
       "      <td>86</td>\n",
       "      <td>3.302326</td>\n",
       "    </tr>\n",
       "  </tbody>\n",
       "</table>\n",
       "</div>"
      ],
      "text/plain": [
       "          count      mean\n",
       "movie_id                 \n",
       "1           452  3.878319\n",
       "2           131  3.206107\n",
       "3            90  3.033333\n",
       "4           209  3.550239\n",
       "5            86  3.302326"
      ]
     },
     "execution_count": 12,
     "metadata": {},
     "output_type": "execute_result"
    }
   ],
   "source": [
    "movie_stats = u_ratings.groupby('movie_id')['rating'].agg(['count', 'mean'])\n",
    "movie_stats.head()"
   ]
  },
  {
   "cell_type": "code",
   "execution_count": 13,
   "metadata": {},
   "outputs": [
    {
     "data": {
      "text/plain": [
       "user_id\n",
       "1    272\n",
       "2     62\n",
       "3     54\n",
       "4     24\n",
       "5    175\n",
       "Name: rating, dtype: int64"
      ]
     },
     "execution_count": 13,
     "metadata": {},
     "output_type": "execute_result"
    }
   ],
   "source": [
    "user1_stats = u_ratings.groupby('user_id')['rating'].count()\n",
    "user1_stats.head()"
   ]
  },
  {
   "cell_type": "code",
   "execution_count": 14,
   "metadata": {
    "scrolled": true
   },
   "outputs": [
    {
     "name": "stdout",
     "output_type": "stream",
     "text": [
      "     user_id  age gender     occupation zip_code  rating_count\n",
      "0          1   24      M     technician    85711           272\n",
      "1          2   53      F          other    94043            62\n",
      "2          3   23      M         writer    32067            54\n",
      "3          4   24      M     technician    43537            24\n",
      "4          5   33      F          other    15213           175\n",
      "..       ...  ...    ...            ...      ...           ...\n",
      "938      939   26      F        student    33319            49\n",
      "939      940   32      M  administrator    02215           107\n",
      "940      941   20      M        student    97229            22\n",
      "941      942   48      F      librarian    78209            79\n",
      "942      943   22      M        student    77841           168\n",
      "\n",
      "[943 rows x 6 columns]\n"
     ]
    }
   ],
   "source": [
    "# Assuming user1_stats has a 'user_id' column and the index is reset\n",
    "#user1_stats.reset_index(inplace=True)\n",
    "\n",
    "# Merge user1_stats into u_user based on 'user_id'\n",
    "merged1_df = pd.merge(u_user, user1_stats, on='user_id')\n",
    "\n",
    "# Display the merged DataFrame\n",
    "#print(merged1_df)\n",
    "# Assuming your DataFrame is named merged_df\n",
    "merged1_df.rename(columns={'rating': 'rating_count'}, inplace=True)\n",
    "\n",
    "# Display the DataFrame with the updated column name\n",
    "print(merged1_df)\n"
   ]
  },
  {
   "cell_type": "code",
   "execution_count": 15,
   "metadata": {},
   "outputs": [
    {
     "name": "stdout",
     "output_type": "stream",
     "text": [
      "     user_id  age gender     occupation zip_code  rating_count Age_category\n",
      "0          1   24      M     technician    85711           272            2\n",
      "1          2   53      F          other    94043            62            4\n",
      "2          3   23      M         writer    32067            54            2\n",
      "3          4   24      M     technician    43537            24            2\n",
      "4          5   33      F          other    15213           175            3\n",
      "..       ...  ...    ...            ...      ...           ...          ...\n",
      "938      939   26      F        student    33319            49            3\n",
      "939      940   32      M  administrator    02215           107            3\n",
      "940      941   20      M        student    97229            22            2\n",
      "941      942   48      F      librarian    78209            79            4\n",
      "942      943   22      M        student    77841           168            2\n",
      "\n",
      "[943 rows x 7 columns]\n"
     ]
    },
    {
     "name": "stderr",
     "output_type": "stream",
     "text": [
      "/var/folders/8z/9yvk4rkj3vsfh47h5btvvk_c0000gn/T/ipykernel_43987/2833733480.py:11: FutureWarning: The default of observed=False is deprecated and will be changed to True in a future version of pandas. Pass observed=False to retain current behavior or observed=True to adopt the future default and silence this warning.\n",
      "  grouped_df = merged1_df.groupby('Age_category').agg({'Age_category': 'count', 'rating_count': 'mean'})\n",
      "/var/folders/8z/9yvk4rkj3vsfh47h5btvvk_c0000gn/T/ipykernel_43987/2833733480.py:12: FutureWarning: The default of observed=False is deprecated and will be changed to True in a future version of pandas. Pass observed=False to retain current behavior or observed=True to adopt the future default and silence this warning.\n",
      "  grouped_df = merged1_df.groupby('Age_category').agg({'Age_category': 'count', 'rating_count': 'mean'})\n"
     ]
    },
    {
     "data": {
      "text/html": [
       "<div>\n",
       "<style scoped>\n",
       "    .dataframe tbody tr th:only-of-type {\n",
       "        vertical-align: middle;\n",
       "    }\n",
       "\n",
       "    .dataframe tbody tr th {\n",
       "        vertical-align: top;\n",
       "    }\n",
       "\n",
       "    .dataframe thead th {\n",
       "        text-align: right;\n",
       "    }\n",
       "</style>\n",
       "<table border=\"1\" class=\"dataframe\">\n",
       "  <thead>\n",
       "    <tr style=\"text-align: right;\">\n",
       "      <th></th>\n",
       "      <th>Count</th>\n",
       "      <th>Mean_Rating</th>\n",
       "    </tr>\n",
       "    <tr>\n",
       "      <th>Age_category</th>\n",
       "      <th></th>\n",
       "      <th></th>\n",
       "    </tr>\n",
       "  </thead>\n",
       "  <tbody>\n",
       "    <tr>\n",
       "      <th>1</th>\n",
       "      <td>17</td>\n",
       "      <td>74.058824</td>\n",
       "    </tr>\n",
       "    <tr>\n",
       "      <th>2</th>\n",
       "      <td>255</td>\n",
       "      <td>114.921569</td>\n",
       "    </tr>\n",
       "    <tr>\n",
       "      <th>3</th>\n",
       "      <td>481</td>\n",
       "      <td>108.000000</td>\n",
       "    </tr>\n",
       "    <tr>\n",
       "      <th>4</th>\n",
       "      <td>168</td>\n",
       "      <td>96.886905</td>\n",
       "    </tr>\n",
       "    <tr>\n",
       "      <th>5</th>\n",
       "      <td>21</td>\n",
       "      <td>55.000000</td>\n",
       "    </tr>\n",
       "    <tr>\n",
       "      <th>6</th>\n",
       "      <td>1</td>\n",
       "      <td>56.000000</td>\n",
       "    </tr>\n",
       "  </tbody>\n",
       "</table>\n",
       "</div>"
      ],
      "text/plain": [
       "              Count  Mean_Rating\n",
       "Age_category                    \n",
       "1                17    74.058824\n",
       "2               255   114.921569\n",
       "3               481   108.000000\n",
       "4               168    96.886905\n",
       "5                21    55.000000\n",
       "6                 1    56.000000"
      ]
     },
     "metadata": {},
     "output_type": "display_data"
    }
   ],
   "source": [
    "import pandas as pd\n",
    "\n",
    "# Assuming df is your DataFrame\n",
    "bins = [0, 15, 25, 45, 60, 70, 80]\n",
    "labels = [1, 2, 3, 4, 5, 6]\n",
    "\n",
    "merged1_df['Age_category'] = pd.cut(merged1_df['age'], bins=bins, labels=labels, include_lowest=True)\n",
    "\n",
    "# Display the updated DataFrame\n",
    "print(merged1_df)\n",
    "grouped_df = merged1_df.groupby('Age_category').agg({'Age_category': 'count', 'rating_count': 'mean'})\n",
    "grouped_df = merged1_df.groupby('Age_category').agg({'Age_category': 'count', 'rating_count': 'mean'})\n",
    "grouped_df = grouped_df.rename(columns={'Age_category': 'Count', 'rating_count': 'Mean_Rating'})\n",
    "\n",
    "display(grouped_df)"
   ]
  },
  {
   "cell_type": "code",
   "execution_count": 16,
   "metadata": {},
   "outputs": [
    {
     "name": "stdout",
     "output_type": "stream",
     "text": [
      "Average number of ratings for a given movie: 59.45\n",
      "Average rating for a given movie: 3.08\n"
     ]
    }
   ],
   "source": [
    "C = movie_stats['count'].mean()\n",
    "m = movie_stats['mean'].mean()\n",
    "\n",
    "print(f\"Average number of ratings for a given movie: {C:.2f}\")\n",
    "print(f\"Average rating for a given movie: {m:.2f}\")\n",
    "\n",
    "def bayesian_avg(ratings):\n",
    "    bayesian_avg = (C*m+ratings.sum())/(C+ratings.count())\n",
    "    return round(bayesian_avg, 3)"
   ]
  },
  {
   "cell_type": "code",
   "execution_count": 17,
   "metadata": {},
   "outputs": [
    {
     "data": {
      "text/html": [
       "<div>\n",
       "<style scoped>\n",
       "    .dataframe tbody tr th:only-of-type {\n",
       "        vertical-align: middle;\n",
       "    }\n",
       "\n",
       "    .dataframe tbody tr th {\n",
       "        vertical-align: top;\n",
       "    }\n",
       "\n",
       "    .dataframe thead th {\n",
       "        text-align: right;\n",
       "    }\n",
       "</style>\n",
       "<table border=\"1\" class=\"dataframe\">\n",
       "  <thead>\n",
       "    <tr style=\"text-align: right;\">\n",
       "      <th></th>\n",
       "      <th>movie_id</th>\n",
       "      <th>count</th>\n",
       "      <th>mean</th>\n",
       "      <th>bayesian_avg</th>\n",
       "    </tr>\n",
       "  </thead>\n",
       "  <tbody>\n",
       "    <tr>\n",
       "      <th>0</th>\n",
       "      <td>1</td>\n",
       "      <td>452</td>\n",
       "      <td>3.878319</td>\n",
       "      <td>3.785</td>\n",
       "    </tr>\n",
       "    <tr>\n",
       "      <th>1</th>\n",
       "      <td>2</td>\n",
       "      <td>131</td>\n",
       "      <td>3.206107</td>\n",
       "      <td>3.166</td>\n",
       "    </tr>\n",
       "    <tr>\n",
       "      <th>2</th>\n",
       "      <td>3</td>\n",
       "      <td>90</td>\n",
       "      <td>3.033333</td>\n",
       "      <td>3.050</td>\n",
       "    </tr>\n",
       "    <tr>\n",
       "      <th>3</th>\n",
       "      <td>4</td>\n",
       "      <td>209</td>\n",
       "      <td>3.550239</td>\n",
       "      <td>3.445</td>\n",
       "    </tr>\n",
       "    <tr>\n",
       "      <th>4</th>\n",
       "      <td>5</td>\n",
       "      <td>86</td>\n",
       "      <td>3.302326</td>\n",
       "      <td>3.210</td>\n",
       "    </tr>\n",
       "  </tbody>\n",
       "</table>\n",
       "</div>"
      ],
      "text/plain": [
       "   movie_id  count      mean  bayesian_avg\n",
       "0         1    452  3.878319         3.785\n",
       "1         2    131  3.206107         3.166\n",
       "2         3     90  3.033333         3.050\n",
       "3         4    209  3.550239         3.445\n",
       "4         5     86  3.302326         3.210"
      ]
     },
     "execution_count": 17,
     "metadata": {},
     "output_type": "execute_result"
    }
   ],
   "source": [
    "bayesian_avg_ratings = u_ratings.groupby('movie_id')['rating'].agg(bayesian_avg).reset_index()\n",
    "bayesian_avg_ratings.columns = ['movie_id', 'bayesian_avg']\n",
    "movie_stats = movie_stats.merge(bayesian_avg_ratings, on='movie_id')\n",
    "movie_stats.head()"
   ]
  },
  {
   "cell_type": "code",
   "execution_count": 18,
   "metadata": {},
   "outputs": [
    {
     "data": {
      "text/html": [
       "<div>\n",
       "<style scoped>\n",
       "    .dataframe tbody tr th:only-of-type {\n",
       "        vertical-align: middle;\n",
       "    }\n",
       "\n",
       "    .dataframe tbody tr th {\n",
       "        vertical-align: top;\n",
       "    }\n",
       "\n",
       "    .dataframe thead th {\n",
       "        text-align: right;\n",
       "    }\n",
       "</style>\n",
       "<table border=\"1\" class=\"dataframe\">\n",
       "  <thead>\n",
       "    <tr style=\"text-align: right;\">\n",
       "      <th></th>\n",
       "      <th>movie_id</th>\n",
       "      <th>count</th>\n",
       "      <th>mean</th>\n",
       "      <th>bayesian_avg</th>\n",
       "      <th>title</th>\n",
       "    </tr>\n",
       "  </thead>\n",
       "  <tbody>\n",
       "    <tr>\n",
       "      <th>49</th>\n",
       "      <td>50</td>\n",
       "      <td>583</td>\n",
       "      <td>4.358491</td>\n",
       "      <td>4.240</td>\n",
       "      <td>Star Wars (1977)</td>\n",
       "    </tr>\n",
       "    <tr>\n",
       "      <th>317</th>\n",
       "      <td>318</td>\n",
       "      <td>298</td>\n",
       "      <td>4.466443</td>\n",
       "      <td>4.235</td>\n",
       "      <td>Schindler's List (1993)</td>\n",
       "    </tr>\n",
       "    <tr>\n",
       "      <th>63</th>\n",
       "      <td>64</td>\n",
       "      <td>283</td>\n",
       "      <td>4.445230</td>\n",
       "      <td>4.208</td>\n",
       "      <td>Shawshank Redemption, The (1994)</td>\n",
       "    </tr>\n",
       "    <tr>\n",
       "      <th>482</th>\n",
       "      <td>483</td>\n",
       "      <td>243</td>\n",
       "      <td>4.456790</td>\n",
       "      <td>4.185</td>\n",
       "      <td>Casablanca (1942)</td>\n",
       "    </tr>\n",
       "    <tr>\n",
       "      <th>11</th>\n",
       "      <td>12</td>\n",
       "      <td>267</td>\n",
       "      <td>4.385768</td>\n",
       "      <td>4.147</td>\n",
       "      <td>Usual Suspects, The (1995)</td>\n",
       "    </tr>\n",
       "  </tbody>\n",
       "</table>\n",
       "</div>"
      ],
      "text/plain": [
       "     movie_id  count      mean  bayesian_avg                             title\n",
       "49         50    583  4.358491         4.240                  Star Wars (1977)\n",
       "317       318    298  4.466443         4.235           Schindler's List (1993)\n",
       "63         64    283  4.445230         4.208  Shawshank Redemption, The (1994)\n",
       "482       483    243  4.456790         4.185                 Casablanca (1942)\n",
       "11         12    267  4.385768         4.147        Usual Suspects, The (1995)"
      ]
     },
     "execution_count": 18,
     "metadata": {},
     "output_type": "execute_result"
    }
   ],
   "source": [
    "movie_stats = movie_stats.merge(u_movies[['movie_id', 'title']])\n",
    "movie_stats.sort_values('bayesian_avg', ascending=False).head()"
   ]
  },
  {
   "cell_type": "code",
   "execution_count": 19,
   "metadata": {},
   "outputs": [
    {
     "data": {
      "text/html": [
       "<div>\n",
       "<style scoped>\n",
       "    .dataframe tbody tr th:only-of-type {\n",
       "        vertical-align: middle;\n",
       "    }\n",
       "\n",
       "    .dataframe tbody tr th {\n",
       "        vertical-align: top;\n",
       "    }\n",
       "\n",
       "    .dataframe thead th {\n",
       "        text-align: right;\n",
       "    }\n",
       "</style>\n",
       "<table border=\"1\" class=\"dataframe\">\n",
       "  <thead>\n",
       "    <tr style=\"text-align: right;\">\n",
       "      <th></th>\n",
       "      <th>movie_id</th>\n",
       "      <th>count</th>\n",
       "      <th>mean</th>\n",
       "      <th>bayesian_avg</th>\n",
       "      <th>title</th>\n",
       "    </tr>\n",
       "  </thead>\n",
       "  <tbody>\n",
       "    <tr>\n",
       "      <th>687</th>\n",
       "      <td>688</td>\n",
       "      <td>44</td>\n",
       "      <td>1.840909</td>\n",
       "      <td>2.551</td>\n",
       "      <td>Leave It to Beaver (1997)</td>\n",
       "    </tr>\n",
       "    <tr>\n",
       "      <th>686</th>\n",
       "      <td>687</td>\n",
       "      <td>69</td>\n",
       "      <td>2.188406</td>\n",
       "      <td>2.599</td>\n",
       "      <td>McHale's Navy (1997)</td>\n",
       "    </tr>\n",
       "    <tr>\n",
       "      <th>121</th>\n",
       "      <td>122</td>\n",
       "      <td>106</td>\n",
       "      <td>2.339623</td>\n",
       "      <td>2.604</td>\n",
       "      <td>Cable Guy, The (1996)</td>\n",
       "    </tr>\n",
       "    <tr>\n",
       "      <th>889</th>\n",
       "      <td>890</td>\n",
       "      <td>43</td>\n",
       "      <td>1.953488</td>\n",
       "      <td>2.605</td>\n",
       "      <td>Mortal Kombat: Annihilation (1997)</td>\n",
       "    </tr>\n",
       "    <tr>\n",
       "      <th>987</th>\n",
       "      <td>988</td>\n",
       "      <td>86</td>\n",
       "      <td>2.313953</td>\n",
       "      <td>2.625</td>\n",
       "      <td>Beautician and the Beast, The (1997)</td>\n",
       "    </tr>\n",
       "  </tbody>\n",
       "</table>\n",
       "</div>"
      ],
      "text/plain": [
       "     movie_id  count      mean  bayesian_avg  \\\n",
       "687       688     44  1.840909         2.551   \n",
       "686       687     69  2.188406         2.599   \n",
       "121       122    106  2.339623         2.604   \n",
       "889       890     43  1.953488         2.605   \n",
       "987       988     86  2.313953         2.625   \n",
       "\n",
       "                                    title  \n",
       "687             Leave It to Beaver (1997)  \n",
       "686                  McHale's Navy (1997)  \n",
       "121                 Cable Guy, The (1996)  \n",
       "889    Mortal Kombat: Annihilation (1997)  \n",
       "987  Beautician and the Beast, The (1997)  "
      ]
     },
     "execution_count": 19,
     "metadata": {},
     "output_type": "execute_result"
    }
   ],
   "source": [
    "movie_stats.sort_values('bayesian_avg', ascending=True).head()"
   ]
  },
  {
   "cell_type": "code",
   "execution_count": 20,
   "metadata": {},
   "outputs": [
    {
     "name": "stdout",
     "output_type": "stream",
     "text": [
      "There are 19 genres.\n"
     ]
    },
    {
     "data": {
      "text/plain": [
       "Counter({'Drama': 725,\n",
       "         'Comedy': 505,\n",
       "         'Action': 251,\n",
       "         'Thriller': 251,\n",
       "         'Romance': 247,\n",
       "         'Adventure': 135,\n",
       "         'Children': 122,\n",
       "         'Crime': 109,\n",
       "         'Sci-Fi': 101,\n",
       "         'Horror': 92,\n",
       "         'War': 71,\n",
       "         'Mystery': 61,\n",
       "         'Musical': 56,\n",
       "         'Documentary': 50,\n",
       "         'Animation': 42,\n",
       "         'Western': 27,\n",
       "         'Film-Noir': 24,\n",
       "         'Fantasy': 22,\n",
       "         'unknown': 2})"
      ]
     },
     "execution_count": 20,
     "metadata": {},
     "output_type": "execute_result"
    }
   ],
   "source": [
    "from collections import Counter\n",
    "\n",
    "genre_frequency = Counter(g for genres in u_movies_new['genres'] for g in genres)\n",
    "\n",
    "print(f\"There are {len(genre_frequency)} genres.\")\n",
    "\n",
    "genre_frequency"
   ]
  },
  {
   "cell_type": "code",
   "execution_count": 21,
   "metadata": {},
   "outputs": [
    {
     "name": "stdout",
     "output_type": "stream",
     "text": [
      "The 5 most common genres: \n",
      " [('Drama', 725), ('Comedy', 505), ('Action', 251), ('Thriller', 251), ('Romance', 247)]\n"
     ]
    }
   ],
   "source": [
    "print(\"The 5 most common genres: \\n\", genre_frequency.most_common(5))"
   ]
  },
  {
   "cell_type": "markdown",
   "metadata": {},
   "source": [
    "The top 5 genres are: `Drama`, `Comedy`, `Thriller`, `Action` and `Romance`.\n",
    "\n",
    "Let's also visualize genres popularity with a barplot."
   ]
  },
  {
   "cell_type": "code",
   "execution_count": 22,
   "metadata": {},
   "outputs": [],
   "source": [
    "genre_frequency_df = pd.DataFrame([genre_frequency]).T.reset_index()\n",
    "genre_frequency_df.columns = ['genre', 'count']\n",
    "\n",
    "sns.barplot(x='genre', y='count', data=genre_frequency_df.sort_values(by='count', ascending=False))\n",
    "plt.xticks(rotation=90)\n",
    "plt.show()"
   ]
  },
  {
   "cell_type": "code",
   "execution_count": 23,
   "metadata": {},
   "outputs": [],
   "source": [
    "from scipy.sparse import csr_matrix\n",
    "\n",
    "def create_X(df):\n",
    "    \n",
    "    M = df['user_id'].nunique()\n",
    "    N = df['movie_id'].nunique()\n",
    "\n",
    "    user_mapper = dict(zip(np.unique(df[\"user_id\"]), list(range(M))))\n",
    "    movie_mapper = dict(zip(np.unique(df[\"movie_id\"]), list(range(N))))\n",
    "    \n",
    "    user_inv_mapper = dict(zip(list(range(M)), np.unique(df[\"user_id\"])))\n",
    "    movie_inv_mapper = dict(zip(list(range(N)), np.unique(df[\"movie_id\"])))\n",
    "    \n",
    "    user_index = [user_mapper[i] for i in df['user_id']]\n",
    "    item_index = [movie_mapper[i] for i in df['movie_id']]\n",
    "\n",
    "    X = csr_matrix((df[\"rating\"], (user_index,item_index)), shape=(M,N))\n",
    "    \n",
    "    return X, user_mapper, movie_mapper, user_inv_mapper, movie_inv_mapper\n",
    "\n",
    "X, user_mapper, movie_mapper, user_inv_mapper, movie_inv_mapper = create_X(u_ratings)\n"
   ]
  },
  {
   "cell_type": "code",
   "execution_count": 24,
   "metadata": {},
   "outputs": [
    {
     "data": {
      "text/plain": [
       "(943, 1682)"
      ]
     },
     "execution_count": 24,
     "metadata": {},
     "output_type": "execute_result"
    }
   ],
   "source": [
    " #print(X)\n",
    "X.shape"
   ]
  },
  {
   "cell_type": "code",
   "execution_count": 25,
   "metadata": {},
   "outputs": [
    {
     "name": "stdout",
     "output_type": "stream",
     "text": [
      "[[4.43719583e+00 2.10935264e+00 1.17393927e+00 ... 0.00000000e+00\n",
      "  2.74008680e-02 2.42401054e-02]\n",
      " [2.12130341e+00 2.95437592e-02 9.65224643e-02 ... 1.59957372e-02\n",
      "  0.00000000e+00 2.40063178e-04]\n",
      " [2.08554987e-01 2.34807113e-02 5.49220917e-02 ... 1.60285059e-02\n",
      "  4.70969633e-04 2.32511482e-04]\n",
      " ...\n",
      " [2.07102370e+00 4.63063107e-02 3.63372238e-01 ... 9.67516855e-04\n",
      "  1.74092171e-04 1.21961013e-03]\n",
      " [1.42834467e+00 8.29457047e-02 0.00000000e+00 ... 1.59719092e-02\n",
      "  1.77583189e-02 0.00000000e+00]\n",
      " [1.59572869e+00 2.17217310e+00 1.43666098e+00 ... 0.00000000e+00\n",
      "  2.93035199e-02 1.54329969e-02]]\n"
     ]
    }
   ],
   "source": [
    "from sklearn.decomposition import NMF\n",
    "from numpy import random\n",
    "\n",
    "model = NMF(n_components=20, init='random', random_state=0, max_iter=500)\n",
    "W = model.fit_transform(X)\n",
    "H = model.components_\n",
    "Q = np.dot(W, H)\n",
    "Q.shape\n",
    "print(Q)"
   ]
  },
  {
   "cell_type": "code",
   "execution_count": 26,
   "metadata": {},
   "outputs": [
    {
     "name": "stdout",
     "output_type": "stream",
     "text": [
      "Matrix sparsity: 6.3%\n"
     ]
    }
   ],
   "source": [
    "n_total = X.shape[0]*X.shape[1]\n",
    "n_ratings = X.nnz\n",
    "sparsity = n_ratings/n_total\n",
    "print(f\"Matrix sparsity: {round(sparsity*100,2)}%\")"
   ]
  },
  {
   "cell_type": "code",
   "execution_count": 27,
   "metadata": {},
   "outputs": [
    {
     "data": {
      "text/plain": [
       "943"
      ]
     },
     "execution_count": 27,
     "metadata": {},
     "output_type": "execute_result"
    }
   ],
   "source": [
    "n_ratings_per_user = X.getnnz(axis=1)\n",
    "len(n_ratings_per_user)"
   ]
  },
  {
   "cell_type": "code",
   "execution_count": 28,
   "metadata": {},
   "outputs": [
    {
     "name": "stdout",
     "output_type": "stream",
     "text": [
      "Most active user rated 737 movies.\n",
      "Least active user rated 20 movies.\n"
     ]
    }
   ],
   "source": [
    "print(f\"Most active user rated {n_ratings_per_user.max()} movies.\")\n",
    "print(f\"Least active user rated {n_ratings_per_user.min()} movies.\")"
   ]
  },
  {
   "cell_type": "code",
   "execution_count": 29,
   "metadata": {},
   "outputs": [
    {
     "name": "stdout",
     "output_type": "stream",
     "text": [
      "[452 131  90 ...   1   1   1]\n"
     ]
    },
    {
     "data": {
      "text/plain": [
       "1682"
      ]
     },
     "execution_count": 29,
     "metadata": {},
     "output_type": "execute_result"
    }
   ],
   "source": [
    "n_ratings_per_movie = X.getnnz(axis=0)\n",
    "print(n_ratings_per_movie)\n",
    "len(n_ratings_per_movie)"
   ]
  },
  {
   "cell_type": "code",
   "execution_count": 30,
   "metadata": {},
   "outputs": [
    {
     "name": "stdout",
     "output_type": "stream",
     "text": [
      "Most rated movie has 583 ratings.\n",
      "Least rated movie has 1 ratings.\n"
     ]
    }
   ],
   "source": [
    "print(f\"Most rated movie has {n_ratings_per_movie.max()} ratings.\")\n",
    "print(f\"Least rated movie has {n_ratings_per_movie.min()} ratings.\")"
   ]
  },
  {
   "cell_type": "code",
   "execution_count": 54,
   "metadata": {},
   "outputs": [
    {
     "name": "stderr",
     "output_type": "stream",
     "text": [
      "/var/folders/8z/9yvk4rkj3vsfh47h5btvvk_c0000gn/T/ipykernel_43987/3364525973.py:3: FutureWarning: \n",
      "\n",
      "`shade` is now deprecated in favor of `fill`; setting `fill=True`.\n",
      "This will become an error in seaborn v0.14.0; please update your code.\n",
      "\n",
      "  sns.kdeplot(n_ratings_per_user, shade=True)\n",
      "/var/folders/8z/9yvk4rkj3vsfh47h5btvvk_c0000gn/T/ipykernel_43987/3364525973.py:9: FutureWarning: \n",
      "\n",
      "`shade` is now deprecated in favor of `fill`; setting `fill=True`.\n",
      "This will become an error in seaborn v0.14.0; please update your code.\n",
      "\n",
      "  sns.kdeplot(n_ratings_per_movie, shade=True)\n"
     ]
    },
    {
     "data": {
      "image/png": "[encoded data removed]",
      "text/plain": [
       "<Figure size 1600x400 with 2 Axes>"
      ]
     },
     "metadata": {},
     "output_type": "display_data"
    }
   ],
   "source": [
    "plt.figure(figsize=(16,4))\n",
    "plt.subplot(1,2,1)\n",
    "sns.kdeplot(n_ratings_per_user, shade=True)\n",
    "plt.xlim(0)\n",
    "plt.title(\"Number of Ratings Per User\", fontsize=14)\n",
    "plt.xlabel(\"number of ratings per user\")\n",
    "plt.ylabel(\"density\")\n",
    "plt.subplot(1,2,2)\n",
    "sns.kdeplot(n_ratings_per_movie, shade=True)\n",
    "plt.xlim(0)\n",
    "plt.title(\"Number of Ratings Per Movie\", fontsize=14)\n",
    "plt.xlabel(\"number of ratings per movie\")\n",
    "plt.ylabel(\"density\")\n",
    "plt.show()"
   ]
  },
  {
   "cell_type": "code",
   "execution_count": 32,
   "metadata": {},
   "outputs": [],
   "source": [
    "from sklearn.neighbors import NearestNeighbors\n",
    "\n",
    "def find_similar_movies(movie_id, X, movie_mapper, movie_inv_mapper, k, metric='cosine'):\n",
    "    \n",
    "    X = X.T\n",
    "    neighbour_ids = []\n",
    "    \n",
    "    movie_ind = movie_mapper[movie_id]\n",
    "    movie_vec = X[movie_ind]\n",
    "    if isinstance(movie_vec, (np.ndarray)):\n",
    "        movie_vec = movie_vec.reshape(1,-1)\n",
    "    # use k+1 since kNN output includes the movieId of interest\n",
    "    kNN = NearestNeighbors(n_neighbors=k+1, algorithm=\"brute\", metric=metric)\n",
    "    kNN.fit(X)\n",
    "    neighbour = kNN.kneighbors(movie_vec, return_distance=False)\n",
    "    for i in range(0,k):\n",
    "        n = neighbour.item(i)\n",
    "        neighbour_ids.append(movie_inv_mapper[n])\n",
    "    neighbour_ids.pop(0)\n",
    "    return neighbour_ids"
   ]
  },
  {
   "cell_type": "code",
   "execution_count": 33,
   "metadata": {},
   "outputs": [
    {
     "data": {
      "text/plain": [
       "[151, 222, 121, 181, 50, 473, 405, 117, 15]"
      ]
     },
     "execution_count": 33,
     "metadata": {},
     "output_type": "execute_result"
    }
   ],
   "source": [
    "similar_movies = find_similar_movies(1, Q, movie_mapper, movie_inv_mapper, k=10)\n",
    "similar_movies"
   ]
  },
  {
   "cell_type": "code",
   "execution_count": 34,
   "metadata": {},
   "outputs": [],
   "source": [
    "movie_idx = dict(zip(u_movies_new['title'], list(u_movies_new.index)))"
   ]
  },
  {
   "cell_type": "code",
   "execution_count": 35,
   "metadata": {},
   "outputs": [
    {
     "name": "stdout",
     "output_type": "stream",
     "text": [
      "There are 1682 unique movies in our movies dataset.\n"
     ]
    }
   ],
   "source": [
    "n_movies = u_movies['movie_id'].nunique()\n",
    "print(f\"There are {n_movies} unique movies in our movies dataset.\")"
   ]
  },
  {
   "cell_type": "code",
   "execution_count": 36,
   "metadata": {},
   "outputs": [
    {
     "name": "stderr",
     "output_type": "stream",
     "text": [
      "/var/folders/8z/9yvk4rkj3vsfh47h5btvvk_c0000gn/T/ipykernel_43987/2384795628.py:4: SettingWithCopyWarning: \n",
      "A value is trying to be set on a copy of a slice from a DataFrame.\n",
      "Try using .loc[row_indexer,col_indexer] = value instead\n",
      "\n",
      "See the caveats in the documentation: https://pandas.pydata.org/pandas-docs/stable/user_guide/indexing.html#returning-a-view-versus-a-copy\n",
      "  u_movies_new[g] = u_movies_new.genres.transform(lambda x: int(g in x))\n",
      "/var/folders/8z/9yvk4rkj3vsfh47h5btvvk_c0000gn/T/ipykernel_43987/2384795628.py:4: SettingWithCopyWarning: \n",
      "A value is trying to be set on a copy of a slice from a DataFrame.\n",
      "Try using .loc[row_indexer,col_indexer] = value instead\n",
      "\n",
      "See the caveats in the documentation: https://pandas.pydata.org/pandas-docs/stable/user_guide/indexing.html#returning-a-view-versus-a-copy\n",
      "  u_movies_new[g] = u_movies_new.genres.transform(lambda x: int(g in x))\n",
      "/var/folders/8z/9yvk4rkj3vsfh47h5btvvk_c0000gn/T/ipykernel_43987/2384795628.py:4: SettingWithCopyWarning: \n",
      "A value is trying to be set on a copy of a slice from a DataFrame.\n",
      "Try using .loc[row_indexer,col_indexer] = value instead\n",
      "\n",
      "See the caveats in the documentation: https://pandas.pydata.org/pandas-docs/stable/user_guide/indexing.html#returning-a-view-versus-a-copy\n",
      "  u_movies_new[g] = u_movies_new.genres.transform(lambda x: int(g in x))\n",
      "/var/folders/8z/9yvk4rkj3vsfh47h5btvvk_c0000gn/T/ipykernel_43987/2384795628.py:4: SettingWithCopyWarning: \n",
      "A value is trying to be set on a copy of a slice from a DataFrame.\n",
      "Try using .loc[row_indexer,col_indexer] = value instead\n",
      "\n",
      "See the caveats in the documentation: https://pandas.pydata.org/pandas-docs/stable/user_guide/indexing.html#returning-a-view-versus-a-copy\n",
      "  u_movies_new[g] = u_movies_new.genres.transform(lambda x: int(g in x))\n",
      "/var/folders/8z/9yvk4rkj3vsfh47h5btvvk_c0000gn/T/ipykernel_43987/2384795628.py:4: SettingWithCopyWarning: \n",
      "A value is trying to be set on a copy of a slice from a DataFrame.\n",
      "Try using .loc[row_indexer,col_indexer] = value instead\n",
      "\n",
      "See the caveats in the documentation: https://pandas.pydata.org/pandas-docs/stable/user_guide/indexing.html#returning-a-view-versus-a-copy\n",
      "  u_movies_new[g] = u_movies_new.genres.transform(lambda x: int(g in x))\n",
      "/var/folders/8z/9yvk4rkj3vsfh47h5btvvk_c0000gn/T/ipykernel_43987/2384795628.py:4: SettingWithCopyWarning: \n",
      "A value is trying to be set on a copy of a slice from a DataFrame.\n",
      "Try using .loc[row_indexer,col_indexer] = value instead\n",
      "\n",
      "See the caveats in the documentation: https://pandas.pydata.org/pandas-docs/stable/user_guide/indexing.html#returning-a-view-versus-a-copy\n",
      "  u_movies_new[g] = u_movies_new.genres.transform(lambda x: int(g in x))\n",
      "/var/folders/8z/9yvk4rkj3vsfh47h5btvvk_c0000gn/T/ipykernel_43987/2384795628.py:4: SettingWithCopyWarning: \n",
      "A value is trying to be set on a copy of a slice from a DataFrame.\n",
      "Try using .loc[row_indexer,col_indexer] = value instead\n",
      "\n",
      "See the caveats in the documentation: https://pandas.pydata.org/pandas-docs/stable/user_guide/indexing.html#returning-a-view-versus-a-copy\n",
      "  u_movies_new[g] = u_movies_new.genres.transform(lambda x: int(g in x))\n",
      "/var/folders/8z/9yvk4rkj3vsfh47h5btvvk_c0000gn/T/ipykernel_43987/2384795628.py:4: SettingWithCopyWarning: \n",
      "A value is trying to be set on a copy of a slice from a DataFrame.\n",
      "Try using .loc[row_indexer,col_indexer] = value instead\n",
      "\n",
      "See the caveats in the documentation: https://pandas.pydata.org/pandas-docs/stable/user_guide/indexing.html#returning-a-view-versus-a-copy\n",
      "  u_movies_new[g] = u_movies_new.genres.transform(lambda x: int(g in x))\n",
      "/var/folders/8z/9yvk4rkj3vsfh47h5btvvk_c0000gn/T/ipykernel_43987/2384795628.py:4: SettingWithCopyWarning: \n",
      "A value is trying to be set on a copy of a slice from a DataFrame.\n",
      "Try using .loc[row_indexer,col_indexer] = value instead\n",
      "\n",
      "See the caveats in the documentation: https://pandas.pydata.org/pandas-docs/stable/user_guide/indexing.html#returning-a-view-versus-a-copy\n",
      "  u_movies_new[g] = u_movies_new.genres.transform(lambda x: int(g in x))\n",
      "/var/folders/8z/9yvk4rkj3vsfh47h5btvvk_c0000gn/T/ipykernel_43987/2384795628.py:4: SettingWithCopyWarning: \n",
      "A value is trying to be set on a copy of a slice from a DataFrame.\n",
      "Try using .loc[row_indexer,col_indexer] = value instead\n",
      "\n",
      "See the caveats in the documentation: https://pandas.pydata.org/pandas-docs/stable/user_guide/indexing.html#returning-a-view-versus-a-copy\n",
      "  u_movies_new[g] = u_movies_new.genres.transform(lambda x: int(g in x))\n",
      "/var/folders/8z/9yvk4rkj3vsfh47h5btvvk_c0000gn/T/ipykernel_43987/2384795628.py:4: SettingWithCopyWarning: \n",
      "A value is trying to be set on a copy of a slice from a DataFrame.\n",
      "Try using .loc[row_indexer,col_indexer] = value instead\n",
      "\n",
      "See the caveats in the documentation: https://pandas.pydata.org/pandas-docs/stable/user_guide/indexing.html#returning-a-view-versus-a-copy\n",
      "  u_movies_new[g] = u_movies_new.genres.transform(lambda x: int(g in x))\n",
      "/var/folders/8z/9yvk4rkj3vsfh47h5btvvk_c0000gn/T/ipykernel_43987/2384795628.py:4: SettingWithCopyWarning: \n",
      "A value is trying to be set on a copy of a slice from a DataFrame.\n",
      "Try using .loc[row_indexer,col_indexer] = value instead\n",
      "\n",
      "See the caveats in the documentation: https://pandas.pydata.org/pandas-docs/stable/user_guide/indexing.html#returning-a-view-versus-a-copy\n",
      "  u_movies_new[g] = u_movies_new.genres.transform(lambda x: int(g in x))\n",
      "/var/folders/8z/9yvk4rkj3vsfh47h5btvvk_c0000gn/T/ipykernel_43987/2384795628.py:4: SettingWithCopyWarning: \n",
      "A value is trying to be set on a copy of a slice from a DataFrame.\n",
      "Try using .loc[row_indexer,col_indexer] = value instead\n",
      "\n",
      "See the caveats in the documentation: https://pandas.pydata.org/pandas-docs/stable/user_guide/indexing.html#returning-a-view-versus-a-copy\n",
      "  u_movies_new[g] = u_movies_new.genres.transform(lambda x: int(g in x))\n",
      "/var/folders/8z/9yvk4rkj3vsfh47h5btvvk_c0000gn/T/ipykernel_43987/2384795628.py:4: SettingWithCopyWarning: \n",
      "A value is trying to be set on a copy of a slice from a DataFrame.\n",
      "Try using .loc[row_indexer,col_indexer] = value instead\n",
      "\n",
      "See the caveats in the documentation: https://pandas.pydata.org/pandas-docs/stable/user_guide/indexing.html#returning-a-view-versus-a-copy\n",
      "  u_movies_new[g] = u_movies_new.genres.transform(lambda x: int(g in x))\n",
      "/var/folders/8z/9yvk4rkj3vsfh47h5btvvk_c0000gn/T/ipykernel_43987/2384795628.py:4: SettingWithCopyWarning: \n",
      "A value is trying to be set on a copy of a slice from a DataFrame.\n",
      "Try using .loc[row_indexer,col_indexer] = value instead\n",
      "\n",
      "See the caveats in the documentation: https://pandas.pydata.org/pandas-docs/stable/user_guide/indexing.html#returning-a-view-versus-a-copy\n",
      "  u_movies_new[g] = u_movies_new.genres.transform(lambda x: int(g in x))\n",
      "/var/folders/8z/9yvk4rkj3vsfh47h5btvvk_c0000gn/T/ipykernel_43987/2384795628.py:4: SettingWithCopyWarning: \n",
      "A value is trying to be set on a copy of a slice from a DataFrame.\n",
      "Try using .loc[row_indexer,col_indexer] = value instead\n",
      "\n",
      "See the caveats in the documentation: https://pandas.pydata.org/pandas-docs/stable/user_guide/indexing.html#returning-a-view-versus-a-copy\n",
      "  u_movies_new[g] = u_movies_new.genres.transform(lambda x: int(g in x))\n",
      "/var/folders/8z/9yvk4rkj3vsfh47h5btvvk_c0000gn/T/ipykernel_43987/2384795628.py:4: SettingWithCopyWarning: \n",
      "A value is trying to be set on a copy of a slice from a DataFrame.\n",
      "Try using .loc[row_indexer,col_indexer] = value instead\n",
      "\n",
      "See the caveats in the documentation: https://pandas.pydata.org/pandas-docs/stable/user_guide/indexing.html#returning-a-view-versus-a-copy\n",
      "  u_movies_new[g] = u_movies_new.genres.transform(lambda x: int(g in x))\n",
      "/var/folders/8z/9yvk4rkj3vsfh47h5btvvk_c0000gn/T/ipykernel_43987/2384795628.py:4: SettingWithCopyWarning: \n",
      "A value is trying to be set on a copy of a slice from a DataFrame.\n",
      "Try using .loc[row_indexer,col_indexer] = value instead\n",
      "\n",
      "See the caveats in the documentation: https://pandas.pydata.org/pandas-docs/stable/user_guide/indexing.html#returning-a-view-versus-a-copy\n",
      "  u_movies_new[g] = u_movies_new.genres.transform(lambda x: int(g in x))\n"
     ]
    }
   ],
   "source": [
    "genres = set(g for G in u_movies_new['genres'] for g in G)\n",
    "\n",
    "for g in genres:\n",
    "    u_movies_new[g] = u_movies_new.genres.transform(lambda x: int(g in x))\n",
    "    \n",
    "movie_genres = u_movies_new.drop(columns=['movie_id', 'title','genres'])"
   ]
  },
  {
   "cell_type": "code",
   "execution_count": 37,
   "metadata": {},
   "outputs": [
    {
     "data": {
      "text/html": [
       "<div>\n",
       "<style scoped>\n",
       "    .dataframe tbody tr th:only-of-type {\n",
       "        vertical-align: middle;\n",
       "    }\n",
       "\n",
       "    .dataframe tbody tr th {\n",
       "        vertical-align: top;\n",
       "    }\n",
       "\n",
       "    .dataframe thead th {\n",
       "        text-align: right;\n",
       "    }\n",
       "</style>\n",
       "<table border=\"1\" class=\"dataframe\">\n",
       "  <thead>\n",
       "    <tr style=\"text-align: right;\">\n",
       "      <th></th>\n",
       "      <th>War</th>\n",
       "      <th>Romance</th>\n",
       "      <th>Sci-Fi</th>\n",
       "      <th>Film-Noir</th>\n",
       "      <th>Thriller</th>\n",
       "      <th>Drama</th>\n",
       "      <th>Adventure</th>\n",
       "      <th>Horror</th>\n",
       "      <th>Fantasy</th>\n",
       "      <th>Mystery</th>\n",
       "      <th>Children</th>\n",
       "      <th>Animation</th>\n",
       "      <th>Comedy</th>\n",
       "      <th>Musical</th>\n",
       "      <th>Documentary</th>\n",
       "      <th>Action</th>\n",
       "      <th>Western</th>\n",
       "      <th>unknown</th>\n",
       "      <th>Crime</th>\n",
       "    </tr>\n",
       "  </thead>\n",
       "  <tbody>\n",
       "    <tr>\n",
       "      <th>0</th>\n",
       "      <td>0</td>\n",
       "      <td>0</td>\n",
       "      <td>0</td>\n",
       "      <td>0</td>\n",
       "      <td>0</td>\n",
       "      <td>0</td>\n",
       "      <td>0</td>\n",
       "      <td>0</td>\n",
       "      <td>0</td>\n",
       "      <td>0</td>\n",
       "      <td>1</td>\n",
       "      <td>1</td>\n",
       "      <td>1</td>\n",
       "      <td>0</td>\n",
       "      <td>0</td>\n",
       "      <td>0</td>\n",
       "      <td>0</td>\n",
       "      <td>0</td>\n",
       "      <td>0</td>\n",
       "    </tr>\n",
       "    <tr>\n",
       "      <th>1</th>\n",
       "      <td>0</td>\n",
       "      <td>0</td>\n",
       "      <td>0</td>\n",
       "      <td>0</td>\n",
       "      <td>1</td>\n",
       "      <td>0</td>\n",
       "      <td>1</td>\n",
       "      <td>0</td>\n",
       "      <td>0</td>\n",
       "      <td>0</td>\n",
       "      <td>0</td>\n",
       "      <td>0</td>\n",
       "      <td>0</td>\n",
       "      <td>0</td>\n",
       "      <td>0</td>\n",
       "      <td>1</td>\n",
       "      <td>0</td>\n",
       "      <td>0</td>\n",
       "      <td>0</td>\n",
       "    </tr>\n",
       "    <tr>\n",
       "      <th>2</th>\n",
       "      <td>0</td>\n",
       "      <td>0</td>\n",
       "      <td>0</td>\n",
       "      <td>0</td>\n",
       "      <td>1</td>\n",
       "      <td>0</td>\n",
       "      <td>0</td>\n",
       "      <td>0</td>\n",
       "      <td>0</td>\n",
       "      <td>0</td>\n",
       "      <td>0</td>\n",
       "      <td>0</td>\n",
       "      <td>0</td>\n",
       "      <td>0</td>\n",
       "      <td>0</td>\n",
       "      <td>0</td>\n",
       "      <td>0</td>\n",
       "      <td>0</td>\n",
       "      <td>0</td>\n",
       "    </tr>\n",
       "    <tr>\n",
       "      <th>3</th>\n",
       "      <td>0</td>\n",
       "      <td>0</td>\n",
       "      <td>0</td>\n",
       "      <td>0</td>\n",
       "      <td>0</td>\n",
       "      <td>1</td>\n",
       "      <td>0</td>\n",
       "      <td>0</td>\n",
       "      <td>0</td>\n",
       "      <td>0</td>\n",
       "      <td>0</td>\n",
       "      <td>0</td>\n",
       "      <td>1</td>\n",
       "      <td>0</td>\n",
       "      <td>0</td>\n",
       "      <td>1</td>\n",
       "      <td>0</td>\n",
       "      <td>0</td>\n",
       "      <td>0</td>\n",
       "    </tr>\n",
       "    <tr>\n",
       "      <th>4</th>\n",
       "      <td>0</td>\n",
       "      <td>0</td>\n",
       "      <td>0</td>\n",
       "      <td>0</td>\n",
       "      <td>1</td>\n",
       "      <td>1</td>\n",
       "      <td>0</td>\n",
       "      <td>0</td>\n",
       "      <td>0</td>\n",
       "      <td>0</td>\n",
       "      <td>0</td>\n",
       "      <td>0</td>\n",
       "      <td>0</td>\n",
       "      <td>0</td>\n",
       "      <td>0</td>\n",
       "      <td>0</td>\n",
       "      <td>0</td>\n",
       "      <td>0</td>\n",
       "      <td>1</td>\n",
       "    </tr>\n",
       "  </tbody>\n",
       "</table>\n",
       "</div>"
      ],
      "text/plain": [
       "   War  Romance  Sci-Fi  Film-Noir  Thriller  Drama  Adventure  Horror  \\\n",
       "0    0        0       0          0         0      0          0       0   \n",
       "1    0        0       0          0         1      0          1       0   \n",
       "2    0        0       0          0         1      0          0       0   \n",
       "3    0        0       0          0         0      1          0       0   \n",
       "4    0        0       0          0         1      1          0       0   \n",
       "\n",
       "   Fantasy  Mystery  Children  Animation  Comedy  Musical  Documentary  \\\n",
       "0        0        0         1          1       1        0            0   \n",
       "1        0        0         0          0       0        0            0   \n",
       "2        0        0         0          0       0        0            0   \n",
       "3        0        0         0          0       1        0            0   \n",
       "4        0        0         0          0       0        0            0   \n",
       "\n",
       "   Action  Western  unknown  Crime  \n",
       "0       0        0        0      0  \n",
       "1       1        0        0      0  \n",
       "2       0        0        0      0  \n",
       "3       1        0        0      0  \n",
       "4       0        0        0      1  "
      ]
     },
     "execution_count": 37,
     "metadata": {},
     "output_type": "execute_result"
    }
   ],
   "source": [
    "movie_genres.head()"
   ]
  },
  {
   "cell_type": "code",
   "execution_count": 38,
   "metadata": {},
   "outputs": [
    {
     "name": "stdout",
     "output_type": "stream",
     "text": [
      "Dimensions of our genres cosine similarity matrix: (1682, 1682)\n"
     ]
    }
   ],
   "source": [
    "from sklearn.metrics.pairwise import cosine_similarity\n",
    "\n",
    "cosine_sim = cosine_similarity(movie_genres, movie_genres)\n",
    "print(f\"Dimensions of our genres cosine similarity matrix: {cosine_sim.shape}\")"
   ]
  },
  {
   "cell_type": "code",
   "execution_count": 39,
   "metadata": {},
   "outputs": [],
   "source": [
    "from fuzzywuzzy import process\n",
    "\n",
    "def movie_finder(title):\n",
    "    all_titles = u_movies_new['title'].tolist()\n",
    "    closest_match = process.extractOne(title,all_titles)\n",
    "    return closest_match[0]"
   ]
  },
  {
   "cell_type": "code",
   "execution_count": 40,
   "metadata": {},
   "outputs": [],
   "source": [
    "def get_last_watched_movie():\n",
    "    # Ask the user for the last movie they watched\n",
    "    last_movie = input(\"What was the last movie you watched? \")\n",
    "\n",
    "    # Return the user's input\n",
    "    return last_movie"
   ]
  },
  {
   "cell_type": "code",
   "execution_count": 41,
   "metadata": {},
   "outputs": [],
   "source": [
    "def get_content_based_recommendations(title_string, n_recommendations=10):\n",
    "    title = movie_finder(title_string)\n",
    "    idx = movie_idx[title]\n",
    "    sim_scores = list(enumerate(cosine_sim[idx]))\n",
    "    sim_scores = sorted(sim_scores, key=lambda x: x[1], reverse=True)\n",
    "    sim_scores = sim_scores[1:(n_recommendations+1)]\n",
    "    similar_movies = [i[0] for i in sim_scores]\n",
    "    print(f\"Because you watched {title}:\")\n",
    "    print(u_movies_new['title'].iloc[similar_movies].tolist())\n",
    "    return u_movies_new['movie_id'].iloc[similar_movies].tolist()\n",
    "    "
   ]
  },
  {
   "cell_type": "code",
   "execution_count": 43,
   "metadata": {},
   "outputs": [
    {
     "name": "stdin",
     "output_type": "stream",
     "text": [
      "Enter your user ID (an integer):  23\n",
      "What was the last movie you watched?  bat\n"
     ]
    },
    {
     "name": "stdout",
     "output_type": "stream",
     "text": [
      "Because you watched Batman Forever (1995):\n",
      "['Batman Returns (1992)', 'Rumble in the Bronx (1995)', 'Batman & Robin (1997)', 'Three Musketeers, The (1993)', 'Cliffhanger (1993)', 'Operation Dumbo Drop (1995)', 'Princess Bride, The (1987)', 'Evil Dead II (1987)', 'Men in Black (1997)', 'True Lies (1994)', 'Batman (1989)', 'Hard Target (1993)', 'Best Men (1997)', 'Striptease (1996)', 'Ghost and the Darkness, The (1996)', 'Raiders of the Lost Ark (1981)', 'Sting, The (1973)', 'Indiana Jones and the Last Crusade (1989)', 'Grosse Pointe Blank (1997)', 'Kull the Conqueror (1997)']\n"
     ]
    }
   ],
   "source": [
    "user_idf = int(input(\"Enter your user ID (an integer): \"))\n",
    "\n",
    "last_watched_movie = movie_finder(get_last_watched_movie())\n",
    "\n",
    "content_list_movies=get_content_based_recommendations(last_watched_movie , 20)"
   ]
  },
  {
   "cell_type": "code",
   "execution_count": 47,
   "metadata": {},
   "outputs": [
    {
     "name": "stdout",
     "output_type": "stream",
     "text": [
      "Because you watched Batman Forever (1995):\n",
      "Net, The (1995)\n",
      "Waterworld (1995)\n",
      "Three Musketeers, The (1993)\n",
      "Cliffhanger (1993)\n",
      "Young Guns (1988)\n",
      "First Knight (1995)\n",
      "Demolition Man (1993)\n",
      "Batman Returns (1992)\n",
      "Outbreak (1995)\n"
     ]
    }
   ],
   "source": [
    "movie_id = (movie_idx[last_watched_movie]+1)\n",
    "movie_titles = dict(zip(u_movies_new['movie_id'], u_movies_new['title']))\n",
    "similar_movies = find_similar_movies(movie_id, Q, movie_mapper, movie_inv_mapper, metric='euclidean', k=10)\n",
    "movie_title = movie_titles[movie_id]\n",
    "\n",
    "print(f\"Because you watched {movie_title}:\")\n",
    "for i in similar_movies:\n",
    "    print(movie_titles[i])"
   ]
  },
  {
   "cell_type": "code",
   "execution_count": 48,
   "metadata": {},
   "outputs": [],
   "source": [
    "from sklearn.neighbors import NearestNeighbors\n",
    "\n",
    "def find_similar_user(user_id, X, user_mapper, user_inv_mapper, k, metric='cosine'):\n",
    "    \"\"\"\n",
    "    Finds k-nearest neighbours for a given movie id.\n",
    "    \n",
    "    Args:\n",
    "        movie_id: id of the movie of interest\n",
    "        X: user-item utility matrix\n",
    "        k: number of similar movies to retrieve\n",
    "        metric: distance metric for kNN calculations\n",
    "    \n",
    "    Output: returns list of k similar movie ID's\n",
    "    \"\"\"\n",
    "    X = X\n",
    "    neighbour_ids = []\n",
    "    \n",
    "    user_ind = user_mapper[user_id]\n",
    "    user_vec = X[user_ind]\n",
    "    if isinstance(user_vec, (np.ndarray)):\n",
    "        user_vec = user_vec.reshape(1,-1)\n",
    "    # use k+1 since kNN output includes the movieId of interest\n",
    "    kNN = NearestNeighbors(n_neighbors=k+1, algorithm=\"brute\", metric=metric)\n",
    "    kNN.fit(X)\n",
    "    neighbour = kNN.kneighbors(user_vec, return_distance=False)\n",
    "    for i in range(0,k):\n",
    "        n = neighbour.item(i)\n",
    "        neighbour_ids.append(user_inv_mapper[n])\n",
    "    neighbour_ids.pop(0)\n",
    "    return neighbour_ids"
   ]
  },
  {
   "cell_type": "code",
   "execution_count": 49,
   "metadata": {},
   "outputs": [
    {
     "data": {
      "text/plain": [
       "[148, 1, 307, 514, 625, 25, 97, 44, 601]"
      ]
     },
     "execution_count": 49,
     "metadata": {},
     "output_type": "execute_result"
    }
   ],
   "source": [
    "similar_user = find_similar_user(user_idf, Q, user_mapper, user_inv_mapper, k=10)\n",
    "similar_user"
   ]
  },
  {
   "cell_type": "code",
   "execution_count": 50,
   "metadata": {},
   "outputs": [
    {
     "name": "stdout",
     "output_type": "stream",
     "text": [
      "Sorted Movie Ratings Dictionary (Descending Order): {173: 4.20813678224346, 174: 4.183106654873985, 210: 2.4872380583850497, 257: 2.3392564917557594, 194: 1.4513695350169116, 24: 1.4502583369227593, 403: 1.3700570026956376, 248: 1.1711589665981113, 385: 0.9780093952381844, 201: 0.8395201369287966, 231: 0.7849921703900989, 399: 0.32075283312439534, 120: 0.2861080863006319, 148: 0.26622529436486847, 254: 0.2454660198791721, 576: 0.2358075800396532, 802: 0.1769835299996504, 110: 0.10613010102381382, 266: 0.05413550505853814, 1138: 0.03406386688623036}\n"
     ]
    }
   ],
   "source": [
    "def calculate_mean_ratings(Q, movie_id_list, user_id_list, movie_mapper, user_mapper):\n",
    "    movie_ratings_list = []\n",
    "    for movie_id in movie_id_list:\n",
    "        movie_idx = movie_mapper[movie_id]\n",
    "        ratings = []\n",
    "        for user_id in user_id_list:\n",
    "            user_idx = user_mapper[user_id]\n",
    "            rating = Q[user_idx, movie_idx]\n",
    "            if rating != 0:  # Only consider non-zero ratings\n",
    "                ratings.append(rating)\n",
    "        mean_rating = sum(ratings) / len(ratings) if ratings else None\n",
    "        movie_ratings_list.append(mean_rating)\n",
    "    return movie_ratings_list\n",
    "\n",
    "# Example usage\n",
    "movie_id_list = content_list_movies\n",
    "user_id_list = similar_user\n",
    "mean_ratings_list = calculate_mean_ratings(Q, movie_id_list, user_id_list, movie_mapper, user_mapper)\n",
    "#print(\"Mean ratings for movies:\", mean_ratings_list)\n",
    "movie_ratings_dict = dict(zip(movie_id_list, mean_ratings_list))\n",
    "\n",
    "# Print the resulting dictionary\n",
    "#print(\"Movie Ratings Dictionary:\", movie_ratings_dict)\n",
    "# Sort movie_ratings_dict by mean ratings in descending order\n",
    "sorted_movie_ratings = dict(sorted(movie_ratings_dict.items(), key=lambda item: item[1], reverse=True))\n",
    "\n",
    "# Print the sorted dictionary\n",
    "print(\"Sorted Movie Ratings Dictionary (Descending Order):\", sorted_movie_ratings)\n",
    "\n",
    "# Extract movie IDs from the keys of sorted_movie_ratings\n",
    "sorted_movie_ids_list = list(sorted_movie_ratings.keys())\n",
    "\n",
    "\n"
   ]
  },
  {
   "cell_type": "code",
   "execution_count": 51,
   "metadata": {},
   "outputs": [
    {
     "name": "stdout",
     "output_type": "stream",
     "text": [
      "Sorted Movie Titles (Descending Order): ['Princess Bride, The (1987)', 'Raiders of the Lost Ark (1981)', 'Indiana Jones and the Last Crusade (1989)', 'Men in Black (1997)', 'Sting, The (1973)', 'Rumble in the Bronx (1995)', 'Batman (1989)', 'Grosse Pointe Blank (1997)', 'True Lies (1994)', 'Evil Dead II (1987)', 'Batman Returns (1992)', 'Three Musketeers, The (1993)', 'Striptease (1996)', 'Ghost and the Darkness, The (1996)', 'Batman & Robin (1997)', 'Cliffhanger (1993)', 'Hard Target (1993)', 'Operation Dumbo Drop (1995)', 'Kull the Conqueror (1997)', 'Best Men (1997)']\n"
     ]
    }
   ],
   "source": [
    "# Create a dictionary with movie_id as key and title as value\n",
    "movie_dict = movie_stats.set_index('movie_id')['title'].to_dict()\n",
    "\n",
    "# Print the resulting dictionary\n",
    "#print(\"Movie Dictionary:\", movie_dict)\n",
    "# Assuming you have a movie_dict dictionary mapping movie IDs to titles\n",
    "movie_titles_list = [movie_dict.get(movie_id, \"Unknown Title\") for movie_id in sorted_movie_ids_list]\n",
    "\n",
    "# Print the resulting list of movie titles\n",
    "print(\"Sorted Movie Titles (Descending Order):\", movie_titles_list)\n"
   ]
  },
  {
   "cell_type": "code",
   "execution_count": 52,
   "metadata": {},
   "outputs": [
    {
     "name": "stdout",
     "output_type": "stream",
     "text": [
      "28\n",
      "Batman Forever (1995)\n"
     ]
    }
   ],
   "source": [
    "print(movie_idx[last_watched_movie])\n",
    "print(last_watched_movie)"
   ]
  },
  {
   "cell_type": "code",
   "execution_count": null,
   "metadata": {},
   "outputs": [],
   "source": []
  }
 ],
 "metadata": {
  "kernelspec": {
   "display_name": "Python 3 (ipykernel)",
   "language": "python",
   "name": "python3"
  },
  "language_info": {
   "codemirror_mode": {
    "name": "ipython",
    "version": 3
   },
   "file_extension": ".py",
   "mimetype": "text/x-python",
   "name": "python",
   "nbconvert_exporter": "python",
   "pygments_lexer": "ipython3",
   "version": "3.10.9"
  }
 },
 "nbformat": 4,
 "nbformat_minor": 4
}
